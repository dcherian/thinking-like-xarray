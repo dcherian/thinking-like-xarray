{
 "cells": [
  {
   "cell_type": "markdown",
   "id": "ccf8e01e-8932-47ae-b9b7-0e82bc926d11",
   "metadata": {},
   "source": [
    "# Thinking like Xarray : Indexing Patterns\n",
    "\n",
    "**Deepak Cherian, CGD**"
   ]
  },
  {
   "cell_type": "markdown",
   "id": "a06b4c91-9201-4c99-8c07-90d2912eda88",
   "metadata": {},
   "source": [
    "## Vectorized vs orthogonal indexing"
   ]
  }
 ],
 "metadata": {
  "kernelspec": {
   "display_name": "Python 3 (ipykernel)",
   "language": "python",
   "name": "python3"
  },
  "language_info": {
   "codemirror_mode": {
    "name": "ipython",
    "version": 3
   },
   "file_extension": ".py",
   "mimetype": "text/x-python",
   "name": "python",
   "nbconvert_exporter": "python",
   "pygments_lexer": "ipython3",
   "version": "3.9.6"
  }
 },
 "nbformat": 4,
 "nbformat_minor": 5
}
